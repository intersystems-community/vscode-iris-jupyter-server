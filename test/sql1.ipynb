{
 "cells": [
  {
   "cell_type": "code",
   "execution_count": null,
   "metadata": {
    "vscode": {
     "languageId": "sql"
    }
   },
   "outputs": [],
   "source": [
    "select top(20)\n",
    "    LinesExecuted as Lines,\n",
    "    ID as Job,\n",
    "    Namespace as NSpace,\n",
    "    Routine\n",
    "from %SYS.ProcessQuery\n",
    "order by LinesExecuted desc"
   ]
  }
 ],
 "metadata": {
  "kernelspec": {
   "display_name": "IRIS SQL",
   "language": "sql",
   "name": "iris-sql"
  },
  "language_info": {
   "name": "iris-polyglot",
   "version": "0.0.1"
  },
  "orig_nbformat": 4
 },
 "nbformat": 4,
 "nbformat_minor": 2
}
