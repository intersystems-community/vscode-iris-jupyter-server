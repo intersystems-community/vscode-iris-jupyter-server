{
 "cells": [
  {
   "attachments": {},
   "cell_type": "markdown",
   "metadata": {},
   "source": [
    "'Polyglot IRIS notebook' language does not implement coloring."
   ]
  },
  {
   "cell_type": "code",
   "execution_count": null,
   "metadata": {},
   "outputs": [],
   "source": [
    "%%python\n",
    "print('Hello world')"
   ]
  },
  {
   "cell_type": "code",
   "execution_count": null,
   "metadata": {},
   "outputs": [],
   "source": [
    "%%objectscript\n",
    "write \"Hello world from \",$zv"
   ]
  },
  {
   "cell_type": "code",
   "execution_count": null,
   "metadata": {},
   "outputs": [],
   "source": [
    "%%sql\n",
    "select 'Hello world'"
   ]
  }
 ],
 "metadata": {
  "kernelspec": {
   "display_name": "Polyglot IRIS",
   "language": "iris-polyglot",
   "name": "iris-polyglot"
  },
  "language_info": {
   "name": "iris-polyglot",
   "version": "0.0.1"
  },
  "orig_nbformat": 4
 },
 "nbformat": 4,
 "nbformat_minor": 2
}
