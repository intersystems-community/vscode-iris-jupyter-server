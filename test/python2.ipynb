{
 "cells": [
  {
   "attachments": {},
   "cell_type": "markdown",
   "metadata": {},
   "source": [
    "The `# pyright: ignore[reportMissingImports]` comment at the end of the `import XXXX` lines prevents Pylance from underlining the import, which will be actioned by the IRIS server's Embedded Python rather than locally.\n",
    "\n",
    "Alternatively add this to your user/workspace/folder settings:\n",
    "```json\n",
    "\"python.analysis.diagnosticSeverityOverrides\": { \n",
    "\t\"reportMissingImports\" : \"none\"\n",
    "}\n",
    "```"
   ]
  },
  {
   "attachments": {},
   "cell_type": "markdown",
   "metadata": {},
   "source": [
    "To install pandas for IRIS Embedded Python (EP) in the dev container, run this from Linux shell:\n",
    "```\n",
    "$ pip3 install --target /usr/irissys/mgr/python pandas\n",
    "```\n",
    "\n",
    "Prepare a dataframe in `df` containing cryptocurrency data"
   ]
  },
  {
   "cell_type": "code",
   "execution_count": null,
   "metadata": {
    "vscode": {
     "languageId": "python"
    }
   },
   "outputs": [],
   "source": [
    "import pandas as pd # pyright: ignore[reportMissingModuleSource]\n",
    "\n",
    "df = pd.read_csv('https://query.data.world/s/tus52dys57qbhqz4qjmla3r34pnuti')"
   ]
  },
  {
   "attachments": {},
   "cell_type": "markdown",
   "metadata": {},
   "source": [
    "Display the first few rows."
   ]
  },
  {
   "cell_type": "code",
   "execution_count": null,
   "metadata": {
    "vscode": {
     "languageId": "python"
    }
   },
   "outputs": [],
   "source": [
    "number = df['Number']\n",
    "name = df['Name']\n",
    "symbol = df['Symbol']\n",
    "marketcap = df['Market Cap']\n",
    "price = df['Price']\n",
    "supply = df['Circulating Supply']\n",
    "tfhr = df['Volume (24hr)']\n",
    "for i in range(5):\n",
    "\tprint(number.loc[i], name.loc[i], symbol.loc[i], marketcap.loc[i], price.loc[i], supply.loc[i], tfhr.loc[i])"
   ]
  },
  {
   "attachments": {},
   "cell_type": "markdown",
   "metadata": {},
   "source": [
    "Install `plotly` so EP can use it.\n",
    "To use the `vscode` renderer in `plotly`, `ipython` and `nbformat` must be installed and the `--upgrade` flag specified:\n",
    "```\n",
    "$ pip3 install --target /usr/irissys/mgr/python --upgrade plotly ipython nbformat\n",
    "```"
   ]
  },
  {
   "cell_type": "code",
   "execution_count": null,
   "metadata": {
    "vscode": {
     "languageId": "python"
    }
   },
   "outputs": [],
   "source": [
    "import plotly.io as pio # pyright: ignore[reportMissingImports]\n",
    "pio.renderers.default = \"vscode\"\n",
    "\n",
    "## TODO - Output from this doesn't currently get back to us from IRIS Embedded Python\n",
    "pio.renderers"
   ]
  },
  {
   "cell_type": "code",
   "execution_count": null,
   "metadata": {
    "vscode": {
     "languageId": "python"
    }
   },
   "outputs": [],
   "source": [
    "import plotly.express as px # pyright: ignore[reportMissingImports]\n",
    "import plotly.graph_objs as go # pyright: ignore[reportMissingImports]\n",
    "from plotly.offline import init_notebook_mode, iplot # pyright: ignore[reportMissingImports]\n",
    "fig = px.bar(df.head(20), x=\"Name\", y=\"Price\", barmode=\"group\", text_auto='.3s')\n",
    "fig.update_traces(textfont_size=12, textangle=0, textposition=\"outside\", cliponaxis=False)\n",
    "fig.update_layout(height=330)\n",
    "\n",
    "fig.show()\n",
    "\n",
    "## Alternative below for if the previous cell hasn't set \"vscode\" as the default renderer\n",
    "# fig.show(renderer=\"vscode\")"
   ]
  },
  {
   "attachments": {},
   "cell_type": "markdown",
   "metadata": {},
   "source": [
    "Plot a simple standalone barchart, specifying the renderer explicitly so this cell can run standalone as long as the plotly library and the renderer's dependencies have been installed (see above)."
   ]
  },
  {
   "cell_type": "code",
   "execution_count": null,
   "metadata": {
    "vscode": {
     "languageId": "python"
    }
   },
   "outputs": [],
   "source": [
    "import plotly.graph_objects as go # pyright: ignore[reportMissingImports]\n",
    "fig = go.Figure(data=[go.Bar(y=[2, 1, 3])], layout_title_text=\"A Figure \\\"displayed\\\" with plotly's fig.show()\")\n",
    "\n",
    "fig.show(renderer=\"vscode\")\n",
    "# fig.show()"
   ]
  }
 ],
 "metadata": {
  "kernelspec": {
   "display_name": "IRIS Python",
   "language": "python",
   "name": "iris-python"
  },
  "language_info": {
   "name": "iris-polyglot",
   "version": "0.0.1"
  },
  "orig_nbformat": 4,
  "vscode": {
   "interpreter": {
    "hash": "698e24018b64d84fcdcbd0eb834ac28f7978466103388c08b47f162a9479c72e"
   }
  }
 },
 "nbformat": 4,
 "nbformat_minor": 2
}
