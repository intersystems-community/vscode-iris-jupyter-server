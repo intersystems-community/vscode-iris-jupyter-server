{
 "cells": [
  {
   "cell_type": "markdown",
   "metadata": {},
   "source": [
    "The `# pyright: ignore[reportMissingImports]` comment at the end of the `import iris` line prevents Pylance from underlining the import, which will be actioned by the IRIS server's embedded Python rather than locally.\n",
    "\n",
    "Alternatively add this to your user/workspace/folder settings:\n",
    "```json\n",
    "\"python.analysis.diagnosticSeverityOverrides\": { \n",
    "\t\"reportMissingImports\" : \"none\"\n",
    "}\n",
    "```"
   ]
  },
  {
   "cell_type": "code",
   "execution_count": null,
   "metadata": {
    "vscode": {
     "languageId": "python"
    }
   },
   "outputs": [],
   "source": [
    "import iris # pyright: ignore[reportMissingImports]\n",
    "\n",
    "status = iris.cls('%SYSTEM.OBJ').ShowFlags()\n"
   ]
  }
 ],
 "metadata": {
  "kernelspec": {
   "display_name": "IRIS Python",
   "language": "python",
   "name": "iris-python"
  },
  "language_info": {
   "name": "iris-polyglot",
   "version": "0.0.1"
  },
  "orig_nbformat": 4
 },
 "nbformat": 4,
 "nbformat_minor": 2
}
