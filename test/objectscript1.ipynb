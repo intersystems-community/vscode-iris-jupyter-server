{
 "cells": [
  {
   "attachments": {},
   "cell_type": "markdown",
   "metadata": {},
   "source": [
    "INT code lines need at least one space indent in order to be colored correctly."
   ]
  },
  {
   "cell_type": "code",
   "execution_count": null,
   "metadata": {
    "vscode": {
     "languageId": "objectscript-int"
    }
   },
   "outputs": [],
   "source": [
    " k\n",
    " for i=1:1:5 w !,i\n",
    " w !,\"Done in job \",$j,\" on \",$sy,\" running \",$zv,!\n",
    " zw\n",
    " w !,$j\n"
   ]
  }
 ],
 "metadata": {
  "kernelspec": {
   "display_name": "IRIS ObjectScript INT",
   "language": "objectscript-int",
   "name": "iris-objectscript"
  },
  "language_info": {
   "name": "iris-polyglot",
   "version": "0.0.1"
  },
  "orig_nbformat": 4
 },
 "nbformat": 4,
 "nbformat_minor": 2
}
